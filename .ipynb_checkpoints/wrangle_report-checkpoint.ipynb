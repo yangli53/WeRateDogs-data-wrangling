{
 "cells": [
  {
   "cell_type": "markdown",
   "metadata": {},
   "source": [
    "# Data Wrangling Project - WeRateDogs "
   ]
  },
  {
   "cell_type": "markdown",
   "metadata": {},
   "source": [
    "### Gather Data"
   ]
  },
  {
   "cell_type": "markdown",
   "metadata": {},
   "source": [
    "In this project, I first gathered data from 3 sources:\n",
    "\n",
    "1. The WeRateDogs Twitter archive. I downloaded **twitter_archive_enhanced.csv** directly and read it as `twitter`.\n",
    "2. The tweet image predictions. I downloaded **image_predictions.tsv** programmatically using the *Requests* and read it as `image`.\n",
    "3. Each tweet's retweet count and favorite count. I used tweet IDs from **twitter_archive_enhanced.csv**, query the Twitter API for each tweet's JSON data using *Tweepy* and stored JSON data in **tweet_json.txt**. Then I read this file line by line into a pandas DataFrame with tweet ID, retweet count, and favorite count as `tweet`. "
   ]
  },
  {
   "cell_type": "markdown",
   "metadata": {},
   "source": [
    "### Assess Data"
   ]
  },
  {
   "cell_type": "markdown",
   "metadata": {},
   "source": [
    "The next step is to assess data.\n",
    "\n",
    "I first visualized the data to identify any quality and tidiness issues. Then I used methods *info()*, *describe()*, *sort_values*, *unique()*, *value_counts()*, *duplicated()* to further assess the data. I checked for data completeness, validity, accuracy, consistency and tidiness. The problems I identified are listed below:\n",
    "\n",
    "**Quality**\n",
    "\n",
    "`twitter` table\n",
    " - Dog stage columns pupper, puppo, doggo, floofer have missing data.\n",
    " - Data type of columns in_reply_to_status_id, in_reply_to_user_id, retweeted_status_id, retweeted_status_user_id should be string.\n",
    " - Data type of columns timestamp and retweeted_status_timestamp should be date/time.\n",
    " - Data type of dog stage column should be category.\n",
    " - Some values in name column are not valid dog names, like \"a\", \"the\", \"an\", etc.\n",
    " - Some values in rating_denominator column are not equal to 10.\n",
    " - Some values in rating_numerator column are very high compared to others.\n",
    " \n",
    "`image` table\n",
    " - Some predictions are not accurate (not a dog breed). \n",
    " - Some dog breed names are capitalized but some are not.\n",
    "\n",
    "`tweet` table\n",
    "None\n",
    "\n",
    "**Tidiness**\n",
    "\n",
    " - Dog stage columns (pupper, puppo, doggo, floofer) in twitter can be combined to 1 column with 4 variables.\n",
    " - Merge the correct prediction column to twitter for later analysis.\n",
    " - Data in tweet can be merged to twitter."
   ]
  },
  {
   "cell_type": "markdown",
   "metadata": {},
   "source": [
    "### Clean Data"
   ]
  },
  {
   "cell_type": "markdown",
   "metadata": {},
   "source": [
    "After making copies of the 3 datasets, I started to clean data. I used：\n",
    "\n",
    "*drop()* and *query()* to remove irrelevant columns；\n",
    "\n",
    "*to_datetime()* and *astype()* to change data types； \n",
    "\n",
    "*replace()*, *map()* and *for loop* to change values;\n",
    "\n",
    "*function* and *apply()* to get the values I need;\n",
    "\n",
    "*str.title()* and *round()* to adjust the format;\n",
    "\n",
    "*merge()* to combine data from 2 datasets."
   ]
  },
  {
   "cell_type": "markdown",
   "metadata": {},
   "source": [
    "### Store Data "
   ]
  },
  {
   "cell_type": "markdown",
   "metadata": {},
   "source": [
    "After cleaning, I stored the clean data in file and in database."
   ]
  },
  {
   "cell_type": "markdown",
   "metadata": {},
   "source": [
    "### Analyze and visualize data"
   ]
  },
  {
   "cell_type": "markdown",
   "metadata": {},
   "source": [
    "I imported *matplotlib.pyplot* and *seaborn* for data visualization. The 3 questions I explored are listed in **act_report.html**. I used *query()* to generate subsets of the data and *groupby()* to group the data and compute summary statistics. I used scatter plots to see correlations between two quantitative variables and used bar charts to visualize results of a qualitative variable against a quantitative variable."
   ]
  }
 ],
 "metadata": {
  "kernelspec": {
   "display_name": "Python 3",
   "language": "python",
   "name": "python3"
  },
  "language_info": {
   "codemirror_mode": {
    "name": "ipython",
    "version": 3
   },
   "file_extension": ".py",
   "mimetype": "text/x-python",
   "name": "python",
   "nbconvert_exporter": "python",
   "pygments_lexer": "ipython3",
   "version": "3.7.3"
  }
 },
 "nbformat": 4,
 "nbformat_minor": 2
}
